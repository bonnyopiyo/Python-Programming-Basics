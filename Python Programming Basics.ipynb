{
 "cells": [
  {
   "cell_type": "markdown",
   "id": "f1063f22",
   "metadata": {},
   "source": [
    "# Python Fundamentals"
   ]
  },
  {
   "cell_type": "markdown",
   "id": "b05a497e",
   "metadata": {},
   "source": [
    "Variables and Data Types"
   ]
  },
  {
   "cell_type": "markdown",
   "id": "e7217973",
   "metadata": {},
   "source": [
    "Operators"
   ]
  },
  {
   "cell_type": "markdown",
   "id": "5f14b316",
   "metadata": {},
   "source": [
    "Control Statements"
   ]
  },
  {
   "cell_type": "markdown",
   "id": "e86d082f",
   "metadata": {},
   "source": [
    "Functions"
   ]
  },
  {
   "cell_type": "markdown",
   "id": "3eb3e131",
   "metadata": {},
   "source": [
    "Classes and Objects"
   ]
  },
  {
   "cell_type": "markdown",
   "id": "933a1617",
   "metadata": {},
   "source": [
    "Collecting Data"
   ]
  },
  {
   "cell_type": "markdown",
   "id": "8fd29317",
   "metadata": {},
   "source": [
    "Slicing and Dicing"
   ]
  },
  {
   "cell_type": "markdown",
   "id": "42b17da5",
   "metadata": {},
   "source": [
    "Boxplot"
   ]
  },
  {
   "cell_type": "markdown",
   "id": "6bb20857",
   "metadata": {},
   "source": [
    "Scatterplot"
   ]
  },
  {
   "cell_type": "markdown",
   "id": "b62db326",
   "metadata": {},
   "source": [
    "Visualisation"
   ]
  },
  {
   "cell_type": "markdown",
   "id": "919969de",
   "metadata": {},
   "source": [
    "## 1. Variables and Data Types"
   ]
  },
  {
   "cell_type": "markdown",
   "id": "15d3180e",
   "metadata": {},
   "source": [
    "What Are Variables in Python?"
   ]
  },
  {
   "cell_type": "markdown",
   "id": "e4391d03",
   "metadata": {},
   "source": [
    "How to declare variables"
   ]
  },
  {
   "cell_type": "markdown",
   "id": "c92d5085",
   "metadata": {},
   "source": [
    "Data Types in Python"
   ]
  },
  {
   "cell_type": "code",
   "execution_count": 3,
   "id": "b8086a90",
   "metadata": {},
   "outputs": [],
   "source": [
    "A = 10\n",
    "a = 10\n",
    "#variable is declared as the value 10 is assigned to it"
   ]
  },
  {
   "cell_type": "markdown",
   "id": "006c8827",
   "metadata": {},
   "source": [
    "## Data types in Python"
   ]
  },
  {
   "cell_type": "markdown",
   "id": "9eade16e",
   "metadata": {},
   "source": [
    "### Numerical Data Types"
   ]
  },
  {
   "cell_type": "markdown",
   "id": "1905a8e3",
   "metadata": {},
   "source": [
    "1. Integers"
   ]
  },
  {
   "cell_type": "markdown",
   "id": "3cfd26af",
   "metadata": {},
   "source": [
    "2. Float"
   ]
  },
  {
   "cell_type": "markdown",
   "id": "5d0fddcc",
   "metadata": {},
   "source": [
    "3. Complex Numbers"
   ]
  },
  {
   "cell_type": "markdown",
   "id": "d8bc46e5",
   "metadata": {},
   "source": [
    "4. Boolean"
   ]
  },
  {
   "cell_type": "markdown",
   "id": "16a68684",
   "metadata": {},
   "source": [
    "### 1. Integers"
   ]
  },
  {
   "cell_type": "code",
   "execution_count": 6,
   "id": "fd4b29ea",
   "metadata": {},
   "outputs": [
    {
     "data": {
      "text/plain": [
       "int"
      ]
     },
     "execution_count": 6,
     "metadata": {},
     "output_type": "execute_result"
    }
   ],
   "source": [
    "x = 89\n",
    "y = 234\n",
    "type(x)\n",
    "type(y)\n",
    "# it will be the integer as long as the value is a whole number."
   ]
  },
  {
   "cell_type": "markdown",
   "id": "0f64adb2",
   "metadata": {},
   "source": [
    "### 2. Float"
   ]
  },
  {
   "cell_type": "code",
   "execution_count": 7,
   "id": "f6f99a24",
   "metadata": {},
   "outputs": [
    {
     "data": {
      "text/plain": [
       "float"
      ]
     },
     "execution_count": 7,
     "metadata": {},
     "output_type": "execute_result"
    }
   ],
   "source": [
    "x = 10.45\n",
    "y = 12.34\n",
    "type(x)"
   ]
  },
  {
   "cell_type": "markdown",
   "id": "917ceaf6",
   "metadata": {},
   "source": [
    "### 3. Complex"
   ]
  },
  {
   "cell_type": "code",
   "execution_count": 10,
   "id": "17dc87a2",
   "metadata": {},
   "outputs": [
    {
     "data": {
      "text/plain": [
       "complex"
      ]
     },
     "execution_count": 10,
     "metadata": {},
     "output_type": "execute_result"
    }
   ],
   "source": [
    "x = 10 + 5j\n",
    "type(x)"
   ]
  },
  {
   "cell_type": "markdown",
   "id": "8a43b177",
   "metadata": {},
   "source": [
    "### 4. Boolean"
   ]
  },
  {
   "cell_type": "code",
   "execution_count": 13,
   "id": "b758180b",
   "metadata": {},
   "outputs": [
    {
     "name": "stdout",
     "output_type": "stream",
     "text": [
      "False\n"
     ]
    }
   ],
   "source": [
    "num = 6 < 5\n",
    "#num is the boolean variable\n",
    "type(num)\n",
    "#the output will be a bool\n",
    "print(num)\n",
    "#this will print False"
   ]
  },
  {
   "cell_type": "markdown",
   "id": "7e3150af",
   "metadata": {},
   "source": [
    "### 5. Strings"
   ]
  },
  {
   "cell_type": "code",
   "execution_count": 15,
   "id": "28115d2d",
   "metadata": {},
   "outputs": [
    {
     "data": {
      "text/plain": [
       "'e'"
      ]
     },
     "execution_count": 15,
     "metadata": {},
     "output_type": "execute_result"
    }
   ],
   "source": [
    "name = 'Cybercrafts'\n",
    "name[3]\n",
    "#this will give us the output as 'e'"
   ]
  },
  {
   "cell_type": "markdown",
   "id": "91c44973",
   "metadata": {},
   "source": [
    "#### Command line input for strings"
   ]
  },
  {
   "cell_type": "code",
   "execution_count": 16,
   "id": "0d874d2f",
   "metadata": {},
   "outputs": [
    {
     "name": "stdout",
     "output_type": "stream",
     "text": [
      "Bonface Osindi\n",
      "Hello Bonface Osindi\n"
     ]
    }
   ],
   "source": [
    "x = input()\n",
    "print('Hello', x)"
   ]
  },
  {
   "cell_type": "markdown",
   "id": "c94b3696",
   "metadata": {},
   "source": [
    "#### Operations using strings"
   ]
  },
  {
   "cell_type": "code",
   "execution_count": 29,
   "id": "9d4d0899",
   "metadata": {},
   "outputs": [
    {
     "data": {
      "text/plain": [
       "'ybe'"
      ]
     },
     "execution_count": 29,
     "metadata": {},
     "output_type": "execute_result"
    }
   ],
   "source": [
    "school  = 'cybercrafts'\n",
    "school.upper()\n",
    "#this will mke the letters to uppercase.\n",
    "school.lower()\n",
    "#this will transfrom to lowercase\n",
    "school.replace('r', 'R')\n",
    "#this will replace a letter r with R\n",
    "name[1:4]\n",
    "#this will return the strings starting at index 1 until index 4"
   ]
  },
  {
   "cell_type": "markdown",
   "id": "efaeeee6",
   "metadata": {},
   "source": [
    "# Lists"
   ]
  },
  {
   "cell_type": "code",
   "execution_count": 30,
   "id": "65ee8f66",
   "metadata": {},
   "outputs": [],
   "source": [
    "mylist = [10,20,30,40,45,56, 'cybercrafts']"
   ]
  },
  {
   "cell_type": "markdown",
   "id": "3f191c95",
   "metadata": {},
   "source": [
    "## Accessing values from a list"
   ]
  },
  {
   "cell_type": "code",
   "execution_count": 31,
   "id": "fa27abe9",
   "metadata": {},
   "outputs": [
    {
     "data": {
      "text/plain": [
       "[30, 40, 45, 56]"
      ]
     },
     "execution_count": 31,
     "metadata": {},
     "output_type": "execute_result"
    }
   ],
   "source": [
    "mylist [2:6]\n",
    "#this will get the values from index 2 until index 6."
   ]
  },
  {
   "cell_type": "markdown",
   "id": "e5758ffc",
   "metadata": {},
   "source": [
    "## Adding/Replacing values in a list"
   ]
  },
  {
   "cell_type": "code",
   "execution_count": 37,
   "id": "2c8e9d01",
   "metadata": {},
   "outputs": [
    {
     "name": "stdout",
     "output_type": "stream",
     "text": [
      "[10, 20, 30, 40, 45, 56, 'python']\n"
     ]
    }
   ],
   "source": [
    "mylist[6] = 'python'\n",
    "#this will replace the value at the index 6 \n",
    "print(mylist)"
   ]
  },
  {
   "cell_type": "code",
   "execution_count": 38,
   "id": "179e0dab",
   "metadata": {},
   "outputs": [
    {
     "name": "stdout",
     "output_type": "stream",
     "text": [
      "[10, 20, 30, 40, 45, 56, 'python', 'Web Programming']\n"
     ]
    }
   ],
   "source": [
    "mylist.append('Web Programming')\n",
    "#this will add the value at the end  of the list\n",
    "print(mylist)"
   ]
  },
  {
   "cell_type": "code",
   "execution_count": 39,
   "id": "27ed275f",
   "metadata": {},
   "outputs": [
    {
     "name": "stdout",
     "output_type": "stream",
     "text": [
      "[10, 20, 30, 40, 45, 'data science', 56, 'python', 'Web Programming']\n"
     ]
    }
   ],
   "source": [
    "mylist.insert(5, 'data science')\n",
    "#this will add the value at the index 5\n",
    "print(mylist)"
   ]
  },
  {
   "cell_type": "markdown",
   "id": "3e21dcfe",
   "metadata": {},
   "source": [
    "clear()  removes all the elements from the list"
   ]
  },
  {
   "cell_type": "markdown",
   "id": "5fd54b71",
   "metadata": {},
   "source": [
    "copy() returns a copy of the list"
   ]
  },
  {
   "cell_type": "markdown",
   "id": "f09f667b",
   "metadata": {},
   "source": [
    "extend() add the elements of the list to the end of the current list"
   ]
  },
  {
   "cell_type": "markdown",
   "id": "50501f64",
   "metadata": {},
   "source": [
    "count() retruns the number of elements of the specified value"
   ]
  },
  {
   "cell_type": "markdown",
   "id": "3cede907",
   "metadata": {},
   "source": [
    "### Assignment"
   ]
  },
  {
   "cell_type": "markdown",
   "id": "936c70b5",
   "metadata": {},
   "source": [
    "specify the functions they perform and do an example in each"
   ]
  },
  {
   "cell_type": "markdown",
   "id": "e24ef7f8",
   "metadata": {},
   "source": [
    "Submit your assignments through the email"
   ]
  },
  {
   "cell_type": "markdown",
   "id": "dab89db7",
   "metadata": {},
   "source": [
    "index(), pop(), remove(), sort(), reverse()\n"
   ]
  },
  {
   "cell_type": "code",
   "execution_count": 40,
   "id": "30f4def8",
   "metadata": {},
   "outputs": [
    {
     "data": {
      "text/plain": [
       "30"
      ]
     },
     "execution_count": 40,
     "metadata": {},
     "output_type": "execute_result"
    }
   ],
   "source": [
    "a = [10, 20, 30]\n",
    "b = [60, 50 , 40, a]\n",
    "#to access a value from the list a we can write\n",
    "\n",
    "b[3][2]\n",
    "# this will return 30 as output"
   ]
  },
  {
   "cell_type": "markdown",
   "id": "a52737b2",
   "metadata": {},
   "source": [
    "# Tuples"
   ]
  },
  {
   "cell_type": "code",
   "execution_count": 45,
   "id": "2bd94cd1",
   "metadata": {},
   "outputs": [
    {
     "name": "stdout",
     "output_type": "stream",
     "text": [
      "(10, 10, 20, 30, 40, 50)\n"
     ]
    },
    {
     "data": {
      "text/plain": [
       "5"
      ]
     },
     "execution_count": 45,
     "metadata": {},
     "output_type": "execute_result"
    }
   ],
   "source": [
    "mytupple = (10,10,20,30,40,50)\n",
    "#to count the number of elements\n",
    "print(mytupple)\n",
    "mytupple.count(10)\n",
    "#the output here is 2\n",
    "#to find the index\n",
    "mytupple.index(50)\n",
    "#the output will be 5, since the index number at 50 is 5"
   ]
  },
  {
   "cell_type": "markdown",
   "id": "b3e9a6b8",
   "metadata": {},
   "source": [
    "# Sets"
   ]
  },
  {
   "cell_type": "code",
   "execution_count": 54,
   "id": "846171fb",
   "metadata": {},
   "outputs": [
    {
     "data": {
      "text/plain": [
       "{10, 20, 30, 40, 50}"
      ]
     },
     "execution_count": 54,
     "metadata": {},
     "output_type": "execute_result"
    }
   ],
   "source": [
    "myset = { 10, 20, 30, 40, 50}\n",
    "myset"
   ]
  },
  {
   "cell_type": "code",
   "execution_count": 59,
   "id": "762ff4a2",
   "metadata": {},
   "outputs": [
    {
     "name": "stdout",
     "output_type": "stream",
     "text": [
      "40\n",
      "10\n",
      "50\n",
      "20\n",
      "30\n"
     ]
    }
   ],
   "source": [
    "for x in myset:\n",
    "    print(x)\n",
    "    #this will get all the values"
   ]
  },
  {
   "cell_type": "code",
   "execution_count": 61,
   "id": "635c039d",
   "metadata": {},
   "outputs": [
    {
     "data": {
      "text/plain": [
       "True"
      ]
     },
     "execution_count": 61,
     "metadata": {},
     "output_type": "execute_result"
    }
   ],
   "source": [
    "20 in myset\n",
    "#this will return true if the value is in the set"
   ]
  },
  {
   "cell_type": "code",
   "execution_count": 64,
   "id": "300d41bd",
   "metadata": {},
   "outputs": [
    {
     "name": "stdout",
     "output_type": "stream",
     "text": [
      "{40, 10, 'Bonnie', 50, 20, 30}\n"
     ]
    }
   ],
   "source": [
    "#to add a value in a set\n",
    "myset.add('Bonnie')\n",
    "print(myset)"
   ]
  },
  {
   "cell_type": "markdown",
   "id": "bfb70a58",
   "metadata": {},
   "source": [
    "# Dictionary"
   ]
  },
  {
   "cell_type": "code",
   "execution_count": 65,
   "id": "95370ea6",
   "metadata": {},
   "outputs": [],
   "source": [
    "mydictionary = { 'python': 'data science', 'machine learning': 'tensorflow','artficial intelligence':'keras'}"
   ]
  },
  {
   "cell_type": "code",
   "execution_count": 66,
   "id": "4cf03b34",
   "metadata": {},
   "outputs": [
    {
     "data": {
      "text/plain": [
       "'tensorflow'"
      ]
     },
     "execution_count": 66,
     "metadata": {},
     "output_type": "execute_result"
    }
   ],
   "source": [
    "mydictionary['machine learning']\n",
    "#this will give the output as 'tensorflow'"
   ]
  },
  {
   "cell_type": "code",
   "execution_count": 68,
   "id": "737543bf",
   "metadata": {},
   "outputs": [
    {
     "data": {
      "text/plain": [
       "'data science'"
      ]
     },
     "execution_count": 68,
     "metadata": {},
     "output_type": "execute_result"
    }
   ],
   "source": [
    "mydictionary.get('python')\n",
    "#this serves the same purpose to access the value."
   ]
  },
  {
   "cell_type": "markdown",
   "id": "c7bac021",
   "metadata": {},
   "source": [
    "### Data Manipulation in a dictionary"
   ]
  },
  {
   "cell_type": "code",
   "execution_count": 70,
   "id": "19b7ea37",
   "metadata": {},
   "outputs": [
    {
     "name": "stdout",
     "output_type": "stream",
     "text": [
      "{'python': 'data science', 'machine learning': 'tensorflow', 'artficial intelligence': 'keras', 'analysis': 'matplotlib'}\n"
     ]
    }
   ],
   "source": [
    "#add a new value\n",
    "mydictionary['analysis'] = 'matplotlib'\n",
    "print(mydictionary)"
   ]
  },
  {
   "cell_type": "code",
   "execution_count": 71,
   "id": "dc41b349",
   "metadata": {},
   "outputs": [
    {
     "data": {
      "text/plain": [
       "{'python': 'data science',\n",
       " 'machine learning': 'tensorflow',\n",
       " 'artficial intelligence': 'keras',\n",
       " 'analysis': 'pandas'}"
      ]
     },
     "execution_count": 71,
     "metadata": {},
     "output_type": "execute_result"
    }
   ],
   "source": [
    "#replacing a value\n",
    "mydictionary['analysis'] = 'pandas'\n",
    "mydictionary"
   ]
  },
  {
   "cell_type": "code",
   "execution_count": 72,
   "id": "3b328cff",
   "metadata": {},
   "outputs": [
    {
     "name": "stdout",
     "output_type": "stream",
     "text": [
      "{'python': 'data science', 'machine learning': 'tensorflow', 'artficial intelligence': 'keras'}\n"
     ]
    }
   ],
   "source": [
    "#deleting a value\n",
    "mydictionary.pop('analysis')\n",
    "print(mydictionary)"
   ]
  },
  {
   "cell_type": "markdown",
   "id": "12b6dad6",
   "metadata": {},
   "source": [
    "# Range "
   ]
  },
  {
   "cell_type": "code",
   "execution_count": 74,
   "id": "4c72fed3",
   "metadata": {},
   "outputs": [
    {
     "name": "stdout",
     "output_type": "stream",
     "text": [
      "0\n",
      "1\n",
      "2\n",
      "3\n",
      "4\n",
      "5\n",
      "6\n",
      "7\n",
      "8\n",
      "9\n",
      "10\n",
      "11\n"
     ]
    }
   ],
   "source": [
    "for x in range(12):\n",
    "    print(x)\n",
    "    #this will print numbers from 0-10. Range will have the numbers from 0-10"
   ]
  },
  {
   "cell_type": "markdown",
   "id": "5f0c79eb",
   "metadata": {},
   "source": [
    "# Type casting"
   ]
  },
  {
   "cell_type": "code",
   "execution_count": 75,
   "id": "0c733311",
   "metadata": {},
   "outputs": [
    {
     "data": {
      "text/plain": [
       "(10, 20, 30, 40)"
      ]
     },
     "execution_count": 75,
     "metadata": {},
     "output_type": "execute_result"
    }
   ],
   "source": [
    "a = [10, 20, 30, 40]\n",
    "#to change this list into a tuple l can simply write\n",
    "tuple(a)\n",
    "#now the list will change to a tuple"
   ]
  },
  {
   "cell_type": "markdown",
   "id": "4bec8b8e",
   "metadata": {},
   "source": [
    "# 2 Operators"
   ]
  },
  {
   "cell_type": "markdown",
   "id": "2b8359d8",
   "metadata": {},
   "source": [
    "What is an operator"
   ]
  },
  {
   "cell_type": "markdown",
   "id": "71ae6c49",
   "metadata": {},
   "source": [
    "Types of operators"
   ]
  },
  {
   "cell_type": "markdown",
   "id": "5fea1ab6",
   "metadata": {},
   "source": [
    "## Types of Operators"
   ]
  },
  {
   "cell_type": "markdown",
   "id": "a4e97752",
   "metadata": {},
   "source": [
    "Arithmetic Operators"
   ]
  },
  {
   "cell_type": "markdown",
   "id": "54a8d658",
   "metadata": {},
   "source": [
    "Assignment Operators"
   ]
  },
  {
   "cell_type": "markdown",
   "id": "cdaf4cf8",
   "metadata": {},
   "source": [
    "Comparison Operators"
   ]
  },
  {
   "cell_type": "markdown",
   "id": "b7cd1498",
   "metadata": {},
   "source": [
    "Logical Operators"
   ]
  },
  {
   "cell_type": "markdown",
   "id": "f224cd15",
   "metadata": {},
   "source": [
    "Membership Operators"
   ]
  },
  {
   "cell_type": "markdown",
   "id": "c3678017",
   "metadata": {},
   "source": [
    "Identity Operators"
   ]
  },
  {
   "cell_type": "markdown",
   "id": "083b4db7",
   "metadata": {},
   "source": [
    "Bitwise Operators"
   ]
  },
  {
   "cell_type": "markdown",
   "id": "92c1fd1c",
   "metadata": {},
   "source": [
    "## Arithmetic Operators "
   ]
  },
  {
   "cell_type": "code",
   "execution_count": 84,
   "id": "0f7a64d1",
   "metadata": {},
   "outputs": [
    {
     "data": {
      "text/plain": [
       "100000000000000"
      ]
     },
     "execution_count": 84,
     "metadata": {},
     "output_type": "execute_result"
    }
   ],
   "source": [
    "x = 10\n",
    "y= 14\n",
    "#addition\n",
    "x+y\n",
    "#subtracion\n",
    "x-y\n",
    "#multiplication\n",
    "x*y\n",
    "#division\n",
    "x/y\n",
    "#floor division\n",
    "x//y\n",
    "#modulus\n",
    "x%y\n",
    "#exponentiation\n",
    "x ** y"
   ]
  },
  {
   "cell_type": "markdown",
   "id": "9e558fd7",
   "metadata": {},
   "source": [
    "## Comparison Operators"
   ]
  },
  {
   "cell_type": "code",
   "execution_count": 87,
   "id": "dc43faef",
   "metadata": {},
   "outputs": [
    {
     "data": {
      "text/plain": [
       "False"
      ]
     },
     "execution_count": 87,
     "metadata": {},
     "output_type": "execute_result"
    }
   ],
   "source": [
    "x = 5\n",
    "y = 3\n",
    "\n",
    "#equal\n",
    "x == 5\n",
    "y == 4\n",
    "\n",
    "x != 5"
   ]
  },
  {
   "cell_type": "markdown",
   "id": "6f87b036",
   "metadata": {},
   "source": [
    "## Logical Operators"
   ]
  },
  {
   "cell_type": "code",
   "execution_count": 90,
   "id": "3cb04fdf",
   "metadata": {},
   "outputs": [
    {
     "data": {
      "text/plain": [
       "True"
      ]
     },
     "execution_count": 90,
     "metadata": {},
     "output_type": "execute_result"
    }
   ],
   "source": [
    "#logical and\n",
    "5 > 3 and 5 > 4\n",
    "#it will return true, since both statements are true\n",
    "5 > 3 or 5 < 2\n",
    "#it will return true, since one of the statements is true\n",
    "not(5>2 and 5<3)\n",
    "#it will return true, even when  logical and will return false\n"
   ]
  },
  {
   "cell_type": "markdown",
   "id": "f350c571",
   "metadata": {},
   "source": [
    "# Identity Operators"
   ]
  },
  {
   "cell_type": "code",
   "execution_count": 95,
   "id": "7bd55fdb",
   "metadata": {},
   "outputs": [
    {
     "data": {
      "text/plain": [
       "False"
      ]
     },
     "execution_count": 95,
     "metadata": {},
     "output_type": "execute_result"
    }
   ],
   "source": [
    "a = [10, 20, 30]\n",
    "b = [10, 20, 30]\n",
    "x = b\n",
    "z = a\n",
    "#is operator\n",
    "x is a\n",
    "#this will return false\n",
    "x is z\n",
    "a is b"
   ]
  },
  {
   "cell_type": "markdown",
   "id": "5bec0c73",
   "metadata": {},
   "source": [
    "## Assignment 2"
   ]
  },
  {
   "cell_type": "markdown",
   "id": "8a3341ab",
   "metadata": {},
   "source": [
    "Identify the use and examples of these Operators in Python "
   ]
  },
  {
   "cell_type": "markdown",
   "id": "7cbb0014",
   "metadata": {},
   "source": [
    "Membership Operators\n",
    "\n",
    "Identity Operators\n",
    "\n",
    "Bitwise Operators"
   ]
  },
  {
   "cell_type": "markdown",
   "id": "618e8b61",
   "metadata": {},
   "source": [
    "# Control Statements "
   ]
  },
  {
   "cell_type": "markdown",
   "id": "1b19dee8",
   "metadata": {},
   "source": [
    "Syntax"
   ]
  },
  {
   "cell_type": "code",
   "execution_count": null,
   "id": "136bdeae",
   "metadata": {},
   "outputs": [],
   "source": [
    "if (test_expresson):\n",
    "    #statement to be executed\n",
    "    elif(test_expression 2):\n",
    "        #statement of elif block\n",
    "        else:\n",
    "            #final statement"
   ]
  },
  {
   "cell_type": "code",
   "execution_count": 2,
   "id": "2f9ede30",
   "metadata": {},
   "outputs": [
    {
     "name": "stdout",
     "output_type": "stream",
     "text": [
      "even number\n"
     ]
    }
   ],
   "source": [
    "x = 10\n",
    "if x % 2 == 0:\n",
    "  print('even number')\n",
    "elif x % 2 == 1:\n",
    "  print('odd number')\n",
    "else:\n",
    "  print('enter a number')"
   ]
  },
  {
   "cell_type": "code",
   "execution_count": 5,
   "id": "7c92f9b5",
   "metadata": {},
   "outputs": [
    {
     "name": "stdout",
     "output_type": "stream",
     "text": [
      "not a prime number\n",
      "prime number\n",
      "not a prime number\n",
      "prime number\n",
      "not a prime number\n",
      "prime number\n",
      "not a prime number\n"
     ]
    }
   ],
   "source": [
    "x = 9\n",
    "for i in range (2,x):\n",
    " if i % 2 == 0:\n",
    "    print('not a prime number')\n",
    " else:\n",
    "    print ('prime number')"
   ]
  },
  {
   "cell_type": "markdown",
   "id": "0473f7b0",
   "metadata": {},
   "source": [
    "# Introduction to Python Fucntions"
   ]
  },
  {
   "cell_type": "markdown",
   "id": "a196a724",
   "metadata": {},
   "source": [
    "## Types of Functions in Python"
   ]
  },
  {
   "cell_type": "markdown",
   "id": "08b1e905",
   "metadata": {},
   "source": [
    "1. Built-in Functions"
   ]
  },
  {
   "cell_type": "markdown",
   "id": "cecf2040",
   "metadata": {},
   "source": [
    "2. Recursion Functions"
   ]
  },
  {
   "cell_type": "markdown",
   "id": "f81fa410",
   "metadata": {},
   "source": [
    "3. Lambda Functions"
   ]
  },
  {
   "cell_type": "markdown",
   "id": "bb931f9a",
   "metadata": {},
   "source": [
    "4. User-defined Functions"
   ]
  },
  {
   "cell_type": "markdown",
   "id": "25c5f9ea",
   "metadata": {},
   "source": [
    "## Python Built-in Functions"
   ]
  },
  {
   "cell_type": "markdown",
   "id": "90e56ee2",
   "metadata": {},
   "source": [
    "### Pyhton abs() Function"
   ]
  },
  {
   "cell_type": "markdown",
   "id": "7563f958",
   "metadata": {},
   "source": [
    "Syntax"
   ]
  },
  {
   "cell_type": "markdown",
   "id": "485628e0",
   "metadata": {},
   "source": [
    "abs(num)"
   ]
  },
  {
   "cell_type": "code",
   "execution_count": 7,
   "id": "a30d5791",
   "metadata": {},
   "outputs": [
    {
     "name": "stdout",
     "output_type": "stream",
     "text": [
      "Absolute value of -20 is 20\n"
     ]
    }
   ],
   "source": [
    "#random integer\n",
    "integer = -20\n",
    "print('Absolute value of -20 is', abs(integer))"
   ]
  },
  {
   "cell_type": "code",
   "execution_count": 10,
   "id": "e5d34c89",
   "metadata": {},
   "outputs": [
    {
     "name": "stdout",
     "output_type": "stream",
     "text": [
      "Absolute value of -30.33 is: 30.33\n"
     ]
    }
   ],
   "source": [
    "#random floating\n",
    "floating = -30.33\n",
    "print('Absolute value of -30.33 is:', abs(floating))"
   ]
  },
  {
   "cell_type": "markdown",
   "id": "7970c6cb",
   "metadata": {},
   "source": [
    "### Python all() Function"
   ]
  },
  {
   "cell_type": "markdown",
   "id": "62ab8294",
   "metadata": {},
   "source": [
    "Syntax"
   ]
  },
  {
   "cell_type": "markdown",
   "id": "c78af66a",
   "metadata": {},
   "source": [
    "all(iterable)"
   ]
  },
  {
   "cell_type": "code",
   "execution_count": 11,
   "id": "bbcc16ff",
   "metadata": {},
   "outputs": [
    {
     "name": "stdout",
     "output_type": "stream",
     "text": [
      "True\n"
     ]
    }
   ],
   "source": [
    "l = [1,2,3,4,5]\n",
    "print(all(l))"
   ]
  },
  {
   "cell_type": "code",
   "execution_count": 12,
   "id": "2c69a80c",
   "metadata": {},
   "outputs": [
    {
     "name": "stdout",
     "output_type": "stream",
     "text": [
      "False\n"
     ]
    }
   ],
   "source": [
    "l = [0, False]\n",
    "print(all(l))"
   ]
  },
  {
   "cell_type": "markdown",
   "id": "abbed748",
   "metadata": {},
   "source": [
    "#### Assignment on Python Functions"
   ]
  },
  {
   "cell_type": "markdown",
   "id": "675a90e6",
   "metadata": {},
   "source": [
    "ascii()"
   ]
  },
  {
   "cell_type": "markdown",
   "id": "43f25772",
   "metadata": {},
   "source": [
    "bin()"
   ]
  },
  {
   "cell_type": "markdown",
   "id": "b9b9c34d",
   "metadata": {},
   "source": [
    "compile()"
   ]
  },
  {
   "cell_type": "markdown",
   "id": "8b1469ca",
   "metadata": {},
   "source": [
    "dict()"
   ]
  },
  {
   "cell_type": "markdown",
   "id": "d9966db3",
   "metadata": {},
   "source": [
    "enumerate()"
   ]
  },
  {
   "cell_type": "markdown",
   "id": "864c1585",
   "metadata": {},
   "source": [
    "eval()"
   ]
  },
  {
   "cell_type": "markdown",
   "id": "0c87df58",
   "metadata": {},
   "source": [
    "...........find more functions Built in Functions"
   ]
  },
  {
   "cell_type": "markdown",
   "id": "322b38f8",
   "metadata": {},
   "source": [
    "# Classes and Objects "
   ]
  },
  {
   "cell_type": "code",
   "execution_count": null,
   "id": "be549600",
   "metadata": {},
   "outputs": [],
   "source": [
    "#Syntax\n",
    "class Class_name:\n",
    "    statement_1\n",
    "    .\n",
    "    .\n",
    "    statement_N"
   ]
  },
  {
   "cell_type": "code",
   "execution_count": 22,
   "id": "0b667f4b",
   "metadata": {},
   "outputs": [
    {
     "name": "stdout",
     "output_type": "stream",
     "text": [
      "bonfaceosindi@gmail.com\n",
      "esthermwau@gmail.com\n",
      "Osindi\n"
     ]
    }
   ],
   "source": [
    "class employee:\n",
    "    pass\n",
    "# no attributes and methods\n",
    "emp_1 = employee()\n",
    "emp_2 = employee()\n",
    "#instance variable can be created manually\n",
    "emp_1.first = 'Bonface'\n",
    "emp_1.last = 'Osindi'\n",
    "emp_1.email = 'bonfaceosindi@gmail.com'\n",
    "emp_1.pay = 10000\n",
    "\n",
    "emp_2.first = 'Esther'\n",
    "emp_2.last = 'Mwau'\n",
    "emp_2.email = 'esthermwau@gmail.com'\n",
    "emp_2.pay  = 10000\n",
    "\n",
    "print(emp_1.email)\n",
    "print(emp_2.email)\n",
    "\n",
    "print(emp_1.last)"
   ]
  },
  {
   "cell_type": "code",
   "execution_count": 27,
   "id": "e8b2e168",
   "metadata": {},
   "outputs": [],
   "source": [
    "class employee:\n",
    "    def _init_(self, first, last, sal):\n",
    "        self.fname = first\n",
    "        self.lname = last\n",
    "        self.sal = sal\n",
    "        self.email = first + '.' + last + '@company.com'\n",
    "        \n",
    "\n"
   ]
  },
  {
   "cell_type": "code",
   "execution_count": 39,
   "id": "523eb338",
   "metadata": {},
   "outputs": [],
   "source": [
    "class MyClass:\n",
    " def func(self):\n",
    "  print('Hello Cyber Crafts Academy')\n"
   ]
  }
 ],
 "metadata": {
  "kernelspec": {
   "display_name": "Python 3",
   "language": "python",
   "name": "python3"
  },
  "language_info": {
   "codemirror_mode": {
    "name": "ipython",
    "version": 3
   },
   "file_extension": ".py",
   "mimetype": "text/x-python",
   "name": "python",
   "nbconvert_exporter": "python",
   "pygments_lexer": "ipython3",
   "version": "3.8.8"
  }
 },
 "nbformat": 4,
 "nbformat_minor": 5
}
